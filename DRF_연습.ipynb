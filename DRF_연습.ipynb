{
 "cells": [
  {
   "cell_type": "code",
   "execution_count": 1,
   "id": "5851929a",
   "metadata": {},
   "outputs": [],
   "source": [
    "import os\n",
    "os.environ['DJANGO_SETTINGS_MODULE'] = 'apitest.settings'\n",
    "os.environ[\"DJANGO_ALLOW_ASYNC_UNSAFE\"] = \"true\""
   ]
  },
  {
   "cell_type": "code",
   "execution_count": 2,
   "id": "2d636e26",
   "metadata": {},
   "outputs": [],
   "source": [
    "import django\n",
    "django.setup()"
   ]
  },
  {
   "cell_type": "code",
   "execution_count": 4,
   "id": "a5f3c45f",
   "metadata": {},
   "outputs": [],
   "source": [
    "from management.serializers import PostSerializer"
   ]
  },
  {
   "cell_type": "code",
   "execution_count": 5,
   "id": "f17c7f5a",
   "metadata": {},
   "outputs": [],
   "source": [
    "from management.models import Post"
   ]
  },
  {
   "cell_type": "code",
   "execution_count": 7,
   "id": "58d87754",
   "metadata": {},
   "outputs": [
    {
     "data": {
      "text/plain": [
       "PostSerializer(<Post: Post object (1)>):\n",
       "    pk = IntegerField(label='ID', read_only=True)\n",
       "    author = AuthorSerializer():\n",
       "        username = CharField(help_text='Required. 150 characters or fewer. Letters, digits and @/./+/-/_ only.', max_length=150, validators=[<django.contrib.auth.validators.UnicodeUsernameValidator object>, <UniqueValidator(queryset=User.objects.all())>])\n",
       "        email = EmailField(allow_blank=True, label='Email address', max_length=254, required=False)\n",
       "    message = CharField(style={'base_template': 'textarea.html'})\n",
       "    created_at = DateTimeField(read_only=True)\n",
       "    updated_at = DateTimeField(read_only=True)\n",
       "    is_public = BooleanField(required=False)"
      ]
     },
     "execution_count": 7,
     "metadata": {},
     "output_type": "execute_result"
    }
   ],
   "source": [
    "PostSerializer(Post.objects.first())"
   ]
  },
  {
   "cell_type": "code",
   "execution_count": 9,
   "id": "1fd4bcbd",
   "metadata": {},
   "outputs": [
    {
     "data": {
      "text/plain": [
       "{'pk': 1, 'author': OrderedDict([('username', 'kyungjun'), ('email', 'kyungjunlee.me@inhandplus.com')]), 'message': '첫번째 메시지', 'created_at': '2021-06-12T13:32:24.478225Z', 'updated_at': '2021-06-26T06:40:53.609580Z', 'is_public': True}"
      ]
     },
     "execution_count": 9,
     "metadata": {},
     "output_type": "execute_result"
    }
   ],
   "source": [
    "PostSerializer(Post.objects.first()).data # 직렬화된 데이터가 출력됨"
   ]
  },
  {
   "cell_type": "code",
   "execution_count": 13,
   "id": "a7170cea",
   "metadata": {},
   "outputs": [
    {
     "data": {
      "text/plain": [
       "[OrderedDict([('pk', 1), ('author', OrderedDict([('username', 'kyungjun'), ('email', 'kyungjunlee.me@inhandplus.com')])), ('message', '첫번째 메시지'), ('created_at', '2021-06-12T13:32:24.478225Z'), ('updated_at', '2021-06-26T06:40:53.609580Z'), ('is_public', True)]), OrderedDict([('pk', 2), ('author', OrderedDict([('username', 'kyungjun'), ('email', 'kyungjunlee.me@inhandplus.com')])), ('message', '두번째 포스팅'), ('created_at', '2021-06-12T13:39:48.236825Z'), ('updated_at', '2021-06-12T13:39:48.236862Z'), ('is_public', True)]), OrderedDict([('pk', 3), ('author', OrderedDict([('username', 'kyungjun'), ('email', 'kyungjunlee.me@inhandplus.com')])), ('message', '세번째 포스팅'), ('created_at', '2021-06-12T13:42:58.765732Z'), ('updated_at', '2021-06-26T08:01:16.022730Z'), ('is_public', True)])]"
      ]
     },
     "execution_count": 13,
     "metadata": {},
     "output_type": "execute_result"
    }
   ],
   "source": [
    "PostSerializer(instance=Post.objects.all(), many=True).data # 2개 이상일 경우 # 조회 목적 !!!"
   ]
  },
  {
   "cell_type": "code",
   "execution_count": null,
   "id": "ca172a7c",
   "metadata": {},
   "outputs": [],
   "source": [
    "# 입력 값에 대해 유효성 검사를 실시하고자 할때는"
   ]
  },
  {
   "cell_type": "code",
   "execution_count": null,
   "id": "677c3cdd",
   "metadata": {},
   "outputs": [],
   "source": []
  },
  {
   "cell_type": "code",
   "execution_count": 3,
   "id": "bf06f7f0",
   "metadata": {},
   "outputs": [],
   "source": [
    "from django.contrib.auth import get_user_model"
   ]
  },
  {
   "cell_type": "code",
   "execution_count": 4,
   "id": "f03bc303",
   "metadata": {},
   "outputs": [],
   "source": [
    "User = get_user_model()"
   ]
  },
  {
   "cell_type": "code",
   "execution_count": 5,
   "id": "8d80f29c",
   "metadata": {},
   "outputs": [
    {
     "data": {
      "text/plain": [
       "<bound method UserManager.create_user of <django.contrib.auth.models.UserManager object at 0x11ad214c0>>"
      ]
     },
     "execution_count": 5,
     "metadata": {},
     "output_type": "execute_result"
    }
   ],
   "source": [
    "User.objects.create_user"
   ]
  },
  {
   "cell_type": "code",
   "execution_count": 7,
   "id": "0490622b",
   "metadata": {},
   "outputs": [],
   "source": [
    "User.objects.create_user?\n",
    "# Signature:\n",
    "# User.objects.create_user(\n",
    "#     username,\n",
    "#     email=None,\n",
    "#     password=None,\n",
    "#     **extra_fields,\n",
    "# )\n",
    "# Docstring: <no docstring>\n",
    "# File:      ~/.pyenv/versions/3.8.7/envs/DRF_api_test/lib/python3.8/site-packages/django/contrib/auth/models.py\n",
    "# Type:      method"
   ]
  },
  {
   "cell_type": "code",
   "execution_count": 8,
   "id": "d292e24c",
   "metadata": {},
   "outputs": [
    {
     "data": {
      "text/plain": [
       "<User: user2>"
      ]
     },
     "execution_count": 8,
     "metadata": {},
     "output_type": "execute_result"
    }
   ],
   "source": [
    "User.objects.create_user(\"user2\", password=\"1234\")"
   ]
  },
  {
   "cell_type": "code",
   "execution_count": null,
   "id": "2e9b4968",
   "metadata": {},
   "outputs": [],
   "source": []
  },
  {
   "cell_type": "code",
   "execution_count": null,
   "id": "f57b524a",
   "metadata": {},
   "outputs": [],
   "source": []
  }
 ],
 "metadata": {
  "kernelspec": {
   "display_name": "Python 3 (ipykernel)",
   "language": "python",
   "name": "python3"
  },
  "language_info": {
   "codemirror_mode": {
    "name": "ipython",
    "version": 3
   },
   "file_extension": ".py",
   "mimetype": "text/x-python",
   "name": "python",
   "nbconvert_exporter": "python",
   "pygments_lexer": "ipython3",
   "version": "3.8.7"
  }
 },
 "nbformat": 4,
 "nbformat_minor": 5
}
